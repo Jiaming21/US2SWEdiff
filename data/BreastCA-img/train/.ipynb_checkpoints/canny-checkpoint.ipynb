{
 "cells": [
  {
   "cell_type": "code",
   "execution_count": 11,
   "id": "42d1b231-42cc-45c9-83fa-510707287754",
   "metadata": {},
   "outputs": [],
   "source": [
    "import cv2\n",
    "import os"
   ]
  },
  {
   "cell_type": "code",
   "execution_count": 12,
   "id": "458f5c6f-1a89-466c-b3a8-71b6951485cd",
   "metadata": {},
   "outputs": [],
   "source": [
    "def create_sketch(image):\n",
    "    # Convert to grayscale\n",
    "    gray_image = cv2.cvtColor(image, cv2.COLOR_BGR2GRAY)\n",
    "    \n",
    "    # Apply Gaussian Blur to smooth the image\n",
    "    blurred_image = cv2.GaussianBlur(gray_image, (5, 5), 0)\n",
    "\n",
    "    # Use Canny to detect edges\n",
    "    edges = cv2.Canny(blurred_image, \n",
    "                      threshold1=10,\n",
    "                      threshold2=100,\n",
    "                      apertureSize=7, # can only take 3-7\n",
    "                      L2gradient=True)\n",
    "    \n",
    "    # Invert the edges to create a sketch effect\n",
    "    inverted_edges = cv2.bitwise_not(edges)\n",
    "    \n",
    "    # Optionally, you can blend with the original for more artistic style\n",
    "    # sketch = cv2.divide(gray_image, 255 - edges, scale=256)\n",
    "\n",
    "    return inverted_edges"
   ]
  },
  {
   "cell_type": "code",
   "execution_count": 13,
   "id": "4ffa2802-e1a9-4ace-899c-b4650b7cd3fe",
   "metadata": {},
   "outputs": [],
   "source": [
    "def create_edge_maps(input_dir, sketch_dir):\n",
    "    inputs_files = os.listdir(input_dir)\n",
    "    for filename in inputs_files:\n",
    "        img_path = os.path.join(input_dir, filename)\n",
    "        img = cv2.imread(img_path)\n",
    "        if img is None:\n",
    "            continue\n",
    "\n",
    "        img_sketch = create_sketch(img)\n",
    "        sketch_img_path = os.path.join(sketch_dir, filename)\n",
    "        cv2.imwrite(sketch_img_path, img_sketch)"
   ]
  },
  {
   "cell_type": "markdown",
   "id": "cc5eab8a-ed04-4f03-86dc-f5dc43345dcd",
   "metadata": {},
   "source": [
    "### for benign swe-us imgs"
   ]
  },
  {
   "cell_type": "code",
   "execution_count": 14,
   "id": "0004444a-98e0-4693-a8da-07cab6ae510c",
   "metadata": {},
   "outputs": [],
   "source": [
    "# please create the folder first\n",
    "input_dir = '/root/autodl-tmp/Breast-Cancer/data/BreastCA-img/train/benign_200/us/'\n",
    "sketch_dir = '/root/autodl-tmp/Breast-Cancer/data/BreastCA-img/train/benign_200/canny/'\n",
    "create_edge_maps(input_dir, sketch_dir)"
   ]
  },
  {
   "cell_type": "markdown",
   "id": "14660262-ed30-45af-b462-78f5e1568292",
   "metadata": {},
   "source": [
    "### for malignant swe-us imgs"
   ]
  },
  {
   "cell_type": "code",
   "execution_count": 15,
   "id": "8122f6df-15bd-4d09-8477-5f5b5791a6d6",
   "metadata": {},
   "outputs": [],
   "source": [
    "input_dir = '/root/autodl-tmp/Breast-Cancer/data/BreastCA-img/train/malignant_200/us/'\n",
    "sketch_dir = '/root/autodl-tmp/Breast-Cancer/data/BreastCA-img/train/malignant_200/canny/'\n",
    "create_edge_maps(input_dir, sketch_dir)"
   ]
  },
  {
   "cell_type": "code",
   "execution_count": null,
   "id": "1f758f85-0076-4732-810a-b9b380fbd29b",
   "metadata": {},
   "outputs": [],
   "source": []
  },
  {
   "cell_type": "code",
   "execution_count": null,
   "id": "29021077-5178-40f1-ac0b-22836e53cca5",
   "metadata": {},
   "outputs": [],
   "source": []
  },
  {
   "cell_type": "code",
   "execution_count": null,
   "id": "9badd0fe-3899-4e71-bcf9-9a40182477a6",
   "metadata": {},
   "outputs": [],
   "source": [
    "#############################  get re-us images  ###############################\n",
    "ims = []\n",
    "im_path = '../data/BreastCA-img'\n",
    "fnames = glob.glob(os.path.join(im_path, 're-us/benign/*.{}'.format('png')))\n",
    "fnames += glob.glob(os.path.join(im_path, 're-us/malignant/*.{}'.format('png')))\n",
    "\n",
    "texts = []\n",
    "masks = []\n",
    "\n",
    "for fname in fnames:\n",
    "    ims.append(fname)\n",
    "################################################################################\n",
    "canny_image = Image.open(ims[index])\n",
    "canny_image = canny_image.convert(\"RGB\")\n",
    "canny_image = np.array(canny_image)\n",
    "canny_image = \n",
    "canny_image = canny_image[:, :, None]\n",
    "canny_image = np.concatenate([canny_image, canny_image, canny_image], axis=2)\n",
    "\n",
    "canny_image = np.array(canny_image)\n",
    "canny_image_tensor = torchvision.transforms.Compose([\n",
    "    torchvision.transforms.ToTensor(),\n",
    "    torchvision.transforms.Resize(1024),\n",
    "    torchvision.transforms.CenterCrop(1024) \n",
    "])(canny_image)"
   ]
  },
  {
   "cell_type": "code",
   "execution_count": null,
   "id": "dc9b0a56-8da0-4fbf-a27d-9368acdc9227",
   "metadata": {},
   "outputs": [],
   "source": []
  },
  {
   "cell_type": "code",
   "execution_count": null,
   "id": "f0861598-c133-4be9-b6ef-d178728dbfd9",
   "metadata": {},
   "outputs": [],
   "source": []
  },
  {
   "cell_type": "code",
   "execution_count": null,
   "id": "016cd0b7-e479-4f8a-9c6f-3f322b2382ad",
   "metadata": {},
   "outputs": [],
   "source": []
  },
  {
   "cell_type": "code",
   "execution_count": null,
   "id": "4cd5a7a2-fa47-4bf0-afe9-57d2e556a145",
   "metadata": {},
   "outputs": [],
   "source": []
  },
  {
   "cell_type": "code",
   "execution_count": null,
   "id": "e71bc2c2-334f-4b0e-bd20-03be57c11ea4",
   "metadata": {},
   "outputs": [],
   "source": []
  },
  {
   "cell_type": "code",
   "execution_count": null,
   "id": "67ba45ad-4911-4cb3-b92e-eede5d896122",
   "metadata": {},
   "outputs": [],
   "source": []
  }
 ],
 "metadata": {
  "kernelspec": {
   "display_name": "pix2pixHD",
   "language": "python",
   "name": "pix2pixhd"
  },
  "language_info": {
   "codemirror_mode": {
    "name": "ipython",
    "version": 3
   },
   "file_extension": ".py",
   "mimetype": "text/x-python",
   "name": "python",
   "nbconvert_exporter": "python",
   "pygments_lexer": "ipython3",
   "version": "3.11.0"
  }
 },
 "nbformat": 4,
 "nbformat_minor": 5
}
